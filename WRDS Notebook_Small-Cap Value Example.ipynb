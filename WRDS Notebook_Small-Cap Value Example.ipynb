{
 "cells": [
  {
   "cell_type": "markdown",
   "metadata": {},
   "source": [
    "## Access WRDS through Jupyter Notebook"
   ]
  },
  {
   "cell_type": "code",
   "execution_count": 1,
   "metadata": {},
   "outputs": [
    {
     "name": "stdout",
     "output_type": "stream",
     "text": [
      "Loading library list...\n",
      "Done\n",
      "Enter your WRDS username [niehaus]:jniehaus21\n",
      "Enter your password:········\n"
     ]
    }
   ],
   "source": [
    "import wrds\n",
    "db = wrds.Connection(wrds_username='jniehaus21')\n",
    "db.create_pgpass_file()"
   ]
  },
  {
   "cell_type": "code",
   "execution_count": 2,
   "metadata": {},
   "outputs": [
    {
     "name": "stdout",
     "output_type": "stream",
     "text": [
      "Approximately 8123750 rows in crsp.monthly_tna_ret_nav.\n"
     ]
    },
    {
     "data": {
      "text/html": [
       "<div>\n",
       "<style scoped>\n",
       "    .dataframe tbody tr th:only-of-type {\n",
       "        vertical-align: middle;\n",
       "    }\n",
       "\n",
       "    .dataframe tbody tr th {\n",
       "        vertical-align: top;\n",
       "    }\n",
       "\n",
       "    .dataframe thead th {\n",
       "        text-align: right;\n",
       "    }\n",
       "</style>\n",
       "<table border=\"1\" class=\"dataframe\">\n",
       "  <thead>\n",
       "    <tr style=\"text-align: right;\">\n",
       "      <th></th>\n",
       "      <th>name</th>\n",
       "      <th>nullable</th>\n",
       "      <th>type</th>\n",
       "    </tr>\n",
       "  </thead>\n",
       "  <tbody>\n",
       "    <tr>\n",
       "      <th>0</th>\n",
       "      <td>caldt</td>\n",
       "      <td>True</td>\n",
       "      <td>DATE</td>\n",
       "    </tr>\n",
       "    <tr>\n",
       "      <th>1</th>\n",
       "      <td>crsp_fundno</td>\n",
       "      <td>True</td>\n",
       "      <td>DOUBLE PRECISION</td>\n",
       "    </tr>\n",
       "    <tr>\n",
       "      <th>2</th>\n",
       "      <td>mtna</td>\n",
       "      <td>True</td>\n",
       "      <td>DOUBLE PRECISION</td>\n",
       "    </tr>\n",
       "    <tr>\n",
       "      <th>3</th>\n",
       "      <td>mret</td>\n",
       "      <td>True</td>\n",
       "      <td>DOUBLE PRECISION</td>\n",
       "    </tr>\n",
       "    <tr>\n",
       "      <th>4</th>\n",
       "      <td>mnav</td>\n",
       "      <td>True</td>\n",
       "      <td>DOUBLE PRECISION</td>\n",
       "    </tr>\n",
       "  </tbody>\n",
       "</table>\n",
       "</div>"
      ],
      "text/plain": [
       "          name  nullable              type\n",
       "0        caldt      True              DATE\n",
       "1  crsp_fundno      True  DOUBLE PRECISION\n",
       "2         mtna      True  DOUBLE PRECISION\n",
       "3         mret      True  DOUBLE PRECISION\n",
       "4         mnav      True  DOUBLE PRECISION"
      ]
     },
     "execution_count": 2,
     "metadata": {},
     "output_type": "execute_result"
    }
   ],
   "source": [
    "#db.list_libraries()\n",
    "#db.list_tables(library=\"crsp\")\n",
    "db.describe_table(library=\"crsp\", table=\"monthly_tna_ret_nav\")"
   ]
  },
  {
   "cell_type": "code",
   "execution_count": 3,
   "metadata": {},
   "outputs": [
    {
     "data": {
      "text/html": [
       "<div>\n",
       "<style scoped>\n",
       "    .dataframe tbody tr th:only-of-type {\n",
       "        vertical-align: middle;\n",
       "    }\n",
       "\n",
       "    .dataframe tbody tr th {\n",
       "        vertical-align: top;\n",
       "    }\n",
       "\n",
       "    .dataframe thead th {\n",
       "        text-align: right;\n",
       "    }\n",
       "</style>\n",
       "<table border=\"1\" class=\"dataframe\">\n",
       "  <thead>\n",
       "    <tr style=\"text-align: right;\">\n",
       "      <th></th>\n",
       "      <th>crsp_fundno</th>\n",
       "      <th>caldt</th>\n",
       "      <th>mtna</th>\n",
       "      <th>mret</th>\n",
       "      <th>mnav</th>\n",
       "    </tr>\n",
       "  </thead>\n",
       "  <tbody>\n",
       "    <tr>\n",
       "      <th>0</th>\n",
       "      <td>NaN</td>\n",
       "      <td>1960-01-29</td>\n",
       "      <td>NaN</td>\n",
       "      <td>NaN</td>\n",
       "      <td>NaN</td>\n",
       "    </tr>\n",
       "    <tr>\n",
       "      <th>1</th>\n",
       "      <td>NaN</td>\n",
       "      <td>1960-02-29</td>\n",
       "      <td>NaN</td>\n",
       "      <td>NaN</td>\n",
       "      <td>NaN</td>\n",
       "    </tr>\n",
       "    <tr>\n",
       "      <th>2</th>\n",
       "      <td>NaN</td>\n",
       "      <td>1960-04-29</td>\n",
       "      <td>NaN</td>\n",
       "      <td>NaN</td>\n",
       "      <td>NaN</td>\n",
       "    </tr>\n",
       "    <tr>\n",
       "      <th>3</th>\n",
       "      <td>NaN</td>\n",
       "      <td>1960-06-30</td>\n",
       "      <td>NaN</td>\n",
       "      <td>NaN</td>\n",
       "      <td>NaN</td>\n",
       "    </tr>\n",
       "    <tr>\n",
       "      <th>4</th>\n",
       "      <td>NaN</td>\n",
       "      <td>1960-07-29</td>\n",
       "      <td>NaN</td>\n",
       "      <td>NaN</td>\n",
       "      <td>NaN</td>\n",
       "    </tr>\n",
       "  </tbody>\n",
       "</table>\n",
       "</div>"
      ],
      "text/plain": [
       "   crsp_fundno       caldt  mtna  mret  mnav\n",
       "0          NaN  1960-01-29   NaN   NaN   NaN\n",
       "1          NaN  1960-02-29   NaN   NaN   NaN\n",
       "2          NaN  1960-04-29   NaN   NaN   NaN\n",
       "3          NaN  1960-06-30   NaN   NaN   NaN\n",
       "4          NaN  1960-07-29   NaN   NaN   NaN"
      ]
     },
     "execution_count": 3,
     "metadata": {},
     "output_type": "execute_result"
    }
   ],
   "source": [
    "#Download all available Total Net Asset data\n",
    "data = db.get_table(library='crsp', table='monthly_tna_ret_nav', \n",
    "                    columns=['crsp_fundno', 'caldt', 'mtna', 'mret', 'mnav'])#, obs=100)\n",
    "data.head()"
   ]
  },
  {
   "cell_type": "code",
   "execution_count": 4,
   "metadata": {},
   "outputs": [
    {
     "data": {
      "text/html": [
       "<div>\n",
       "<style scoped>\n",
       "    .dataframe tbody tr th:only-of-type {\n",
       "        vertical-align: middle;\n",
       "    }\n",
       "\n",
       "    .dataframe tbody tr th {\n",
       "        vertical-align: top;\n",
       "    }\n",
       "\n",
       "    .dataframe thead th {\n",
       "        text-align: right;\n",
       "    }\n",
       "</style>\n",
       "<table border=\"1\" class=\"dataframe\">\n",
       "  <thead>\n",
       "    <tr style=\"text-align: right;\">\n",
       "      <th></th>\n",
       "      <th>crsp_fundno</th>\n",
       "      <th>caldt</th>\n",
       "      <th>summary_period2</th>\n",
       "      <th>fund_name</th>\n",
       "      <th>lipper_class_name</th>\n",
       "    </tr>\n",
       "  </thead>\n",
       "  <tbody>\n",
       "    <tr>\n",
       "      <th>0</th>\n",
       "      <td>1.0</td>\n",
       "      <td>1997-12-31</td>\n",
       "      <td>A</td>\n",
       "      <td>AARP Income Tr:Bond for Income</td>\n",
       "      <td>None</td>\n",
       "    </tr>\n",
       "    <tr>\n",
       "      <th>1</th>\n",
       "      <td>1.0</td>\n",
       "      <td>1998-12-31</td>\n",
       "      <td>A</td>\n",
       "      <td>AARP Income Tr:Bond for Income</td>\n",
       "      <td>None</td>\n",
       "    </tr>\n",
       "    <tr>\n",
       "      <th>2</th>\n",
       "      <td>1.0</td>\n",
       "      <td>1999-03-31</td>\n",
       "      <td>Q</td>\n",
       "      <td>AARP Income Tr:Bond for Income</td>\n",
       "      <td>None</td>\n",
       "    </tr>\n",
       "    <tr>\n",
       "      <th>3</th>\n",
       "      <td>1.0</td>\n",
       "      <td>1999-06-30</td>\n",
       "      <td>Q</td>\n",
       "      <td>AARP Income Tr:Bond for Income</td>\n",
       "      <td>None</td>\n",
       "    </tr>\n",
       "    <tr>\n",
       "      <th>4</th>\n",
       "      <td>1.0</td>\n",
       "      <td>1999-09-30</td>\n",
       "      <td>Q</td>\n",
       "      <td>AARP Income Tr:Bond for Income</td>\n",
       "      <td>None</td>\n",
       "    </tr>\n",
       "  </tbody>\n",
       "</table>\n",
       "</div>"
      ],
      "text/plain": [
       "   crsp_fundno       caldt summary_period2                       fund_name  \\\n",
       "0          1.0  1997-12-31               A  AARP Income Tr:Bond for Income   \n",
       "1          1.0  1998-12-31               A  AARP Income Tr:Bond for Income   \n",
       "2          1.0  1999-03-31               Q  AARP Income Tr:Bond for Income   \n",
       "3          1.0  1999-06-30               Q  AARP Income Tr:Bond for Income   \n",
       "4          1.0  1999-09-30               Q  AARP Income Tr:Bond for Income   \n",
       "\n",
       "  lipper_class_name  \n",
       "0              None  \n",
       "1              None  \n",
       "2              None  \n",
       "3              None  \n",
       "4              None  "
      ]
     },
     "execution_count": 4,
     "metadata": {},
     "output_type": "execute_result"
    }
   ],
   "source": [
    "#Download all available Fund Summary data\n",
    "data2 = db.get_table(library='crsp', table='fund_summary2', \n",
    "                    columns=['crsp_fundno', 'caldt', 'summary_period2', 'fund_name', 'lipper_class_name'])#, obs=100)\n",
    "data2.head()"
   ]
  },
  {
   "cell_type": "code",
   "execution_count": 5,
   "metadata": {},
   "outputs": [
    {
     "data": {
      "text/plain": [
       "(26945, 5)"
      ]
     },
     "execution_count": 5,
     "metadata": {},
     "output_type": "execute_result"
    }
   ],
   "source": [
    "#print(data2.shape)\n",
    "data2.dropna(subset=['lipper_class_name'], inplace=True)\n",
    "#print(data2.shape)\n",
    "scdf = data2[data2['lipper_class_name'].str.contains(\"Small-Cap Value\")]\n",
    "scdf.shape"
   ]
  },
  {
   "cell_type": "code",
   "execution_count": 6,
   "metadata": {},
   "outputs": [],
   "source": [
    "#print(data.shape)\n",
    "data.dropna(subset=['crsp_fundno'], inplace=True)\n",
    "#data.shape"
   ]
  },
  {
   "cell_type": "code",
   "execution_count": 7,
   "metadata": {
    "scrolled": true
   },
   "outputs": [],
   "source": [
    "#Drop duplicates\n",
    "t1 = scdf[['crsp_fundno', 'fund_name', 'lipper_class_name']].drop_duplicates()\n",
    "\n",
    "#Merge tables\n",
    "df = data.merge(t1, on='crsp_fundno', how='left')"
   ]
  },
  {
   "cell_type": "code",
   "execution_count": 8,
   "metadata": {},
   "outputs": [],
   "source": [
    "#print(df.shape)\n",
    "df.dropna(subset=['lipper_class_name'], inplace=True)\n",
    "#print(df.shape)\n",
    "df.dropna(subset=['mret'], inplace=True)\n",
    "#print(df.shape)\n",
    "df.dropna(subset=['mtna'], inplace=True)\n",
    "#df.shape"
   ]
  },
  {
   "cell_type": "code",
   "execution_count": 10,
   "metadata": {},
   "outputs": [],
   "source": [
    "#Annualize Return\n",
    "df['annret'] = (1 + df['mret'])**12 - 1\n",
    "\n",
    "#Remove mtna -99\n",
    "tnamask = df['mtna'] > 0\n",
    "mtna = df[tnamask]\n",
    "#mtna.describe()\n",
    "\n",
    "#Remove outliers\n",
    "#mtna['mret'].describe()\n",
    "retmask = mtna['mret'] < 0.9\n",
    "out = mtna[retmask]\n",
    "#out['mret'].describe()"
   ]
  },
  {
   "cell_type": "code",
   "execution_count": 12,
   "metadata": {
    "scrolled": false
   },
   "outputs": [],
   "source": [
    "#df.to_csv('SCVdata.csv', index=False)\n",
    "df1 = out.groupby(['crsp_fundno', 'caldt']).head(1)\n",
    "#df1.to_csv('SCVdropdup.csv', index=False)"
   ]
  },
  {
   "cell_type": "code",
   "execution_count": 13,
   "metadata": {},
   "outputs": [
    {
     "data": {
      "text/html": [
       "<div>\n",
       "<style scoped>\n",
       "    .dataframe tbody tr th:only-of-type {\n",
       "        vertical-align: middle;\n",
       "    }\n",
       "\n",
       "    .dataframe tbody tr th {\n",
       "        vertical-align: top;\n",
       "    }\n",
       "\n",
       "    .dataframe thead th {\n",
       "        text-align: right;\n",
       "    }\n",
       "</style>\n",
       "<table border=\"1\" class=\"dataframe\">\n",
       "  <thead>\n",
       "    <tr style=\"text-align: right;\">\n",
       "      <th></th>\n",
       "      <th>crsp_fundno</th>\n",
       "      <th>mtna</th>\n",
       "      <th>annret</th>\n",
       "      <th>fund_name</th>\n",
       "    </tr>\n",
       "  </thead>\n",
       "  <tbody>\n",
       "    <tr>\n",
       "      <th>0</th>\n",
       "      <td>292.0</td>\n",
       "      <td>24.552966</td>\n",
       "      <td>0.091869</td>\n",
       "      <td>CitiFunds Trust II: CitiFunds Small Cap Value ...</td>\n",
       "    </tr>\n",
       "    <tr>\n",
       "      <th>1</th>\n",
       "      <td>479.0</td>\n",
       "      <td>24.468723</td>\n",
       "      <td>0.228712</td>\n",
       "      <td>The DLB Fund Group: DLB Enterprise III Fund</td>\n",
       "    </tr>\n",
       "    <tr>\n",
       "      <th>2</th>\n",
       "      <td>657.0</td>\n",
       "      <td>32.681614</td>\n",
       "      <td>0.225099</td>\n",
       "      <td>1838 Investment Advisors Funds: 1838 Small Cap...</td>\n",
       "    </tr>\n",
       "    <tr>\n",
       "      <th>3</th>\n",
       "      <td>671.0</td>\n",
       "      <td>78.500033</td>\n",
       "      <td>0.098062</td>\n",
       "      <td>Evergreen Select Equity Trust: Evergreen Selec...</td>\n",
       "    </tr>\n",
       "    <tr>\n",
       "      <th>4</th>\n",
       "      <td>709.0</td>\n",
       "      <td>22.941000</td>\n",
       "      <td>0.301803</td>\n",
       "      <td>First American Investment Funds, Inc.: Regiona...</td>\n",
       "    </tr>\n",
       "  </tbody>\n",
       "</table>\n",
       "</div>"
      ],
      "text/plain": [
       "   crsp_fundno       mtna    annret  \\\n",
       "0        292.0  24.552966  0.091869   \n",
       "1        479.0  24.468723  0.228712   \n",
       "2        657.0  32.681614  0.225099   \n",
       "3        671.0  78.500033  0.098062   \n",
       "4        709.0  22.941000  0.301803   \n",
       "\n",
       "                                           fund_name  \n",
       "0  CitiFunds Trust II: CitiFunds Small Cap Value ...  \n",
       "1        The DLB Fund Group: DLB Enterprise III Fund  \n",
       "2  1838 Investment Advisors Funds: 1838 Small Cap...  \n",
       "3  Evergreen Select Equity Trust: Evergreen Selec...  \n",
       "4  First American Investment Funds, Inc.: Regiona...  "
      ]
     },
     "execution_count": 13,
     "metadata": {},
     "output_type": "execute_result"
    }
   ],
   "source": [
    "#Create dictionary for fund_name\n",
    "dict_lookup = df1[['crsp_fundno', 'fund_name']].drop_duplicates().set_index('crsp_fundno').to_dict()['fund_name']\n",
    "\n",
    "#Groupby fundno, take average mtna, mret\n",
    "funds = ['mtna', 'annret']\n",
    "df2 = df1.groupby('crsp_fundno')[funds].mean().reset_index()\n",
    "df2['fund_name'] = df2['crsp_fundno'].map(dict_lookup)\n",
    "#df2.to_csv('SCVdataavg.csv', index=False)\n",
    "df2.head()"
   ]
  },
  {
   "cell_type": "code",
   "execution_count": 67,
   "metadata": {},
   "outputs": [
    {
     "data": {
      "image/png": "[encoded data removed]",
      "text/plain": [
       "<Figure size 432x288 with 1 Axes>"
      ]
     },
     "metadata": {
      "needs_background": "light"
     },
     "output_type": "display_data"
    }
   ],
   "source": [
    "import seaborn as sns\n",
    "import matplotlib.pyplot as plt\n",
    "sns.scatterplot(data=df2, x=\"annret\", y=\"mtna\", color=\"#4CB391\")\n",
    "plt.xlabel('Annual Return')\n",
    "plt.ylabel('Total Net Assets')\n",
    "plt.show()"
   ]
  },
  {
   "cell_type": "code",
   "execution_count": 59,
   "metadata": {},
   "outputs": [
    {
     "data": {
      "image/png": "[encoded data removed]",
      "text/plain": [
       "<Figure size 432x432 with 3 Axes>"
      ]
     },
     "metadata": {
      "needs_background": "light"
     },
     "output_type": "display_data"
    }
   ],
   "source": [
    "sns.jointplot(data=df2, x='annret', y='mtna', kind=\"scatter\", color=\"#4CB391\")\n",
    "plt.show()"
   ]
  },
  {
   "cell_type": "code",
   "execution_count": 68,
   "metadata": {},
   "outputs": [
    {
     "data": {
      "image/png": "[encoded data removed]",
      "text/plain": [
       "<Figure size 432x288 with 1 Axes>"
      ]
     },
     "metadata": {
      "needs_background": "light"
     },
     "output_type": "display_data"
    }
   ],
   "source": [
    "plt.hist(df2['annret'], bins=50, color=\"#4CB391\")\n",
    "#plt.title('Distribution of Annual Returns')\n",
    "plt.xlabel('Distribution of Annual Returns')\n",
    "plt.show()"
   ]
  },
  {
   "cell_type": "code",
   "execution_count": 16,
   "metadata": {},
   "outputs": [
    {
     "data": {
      "text/plain": [
       "count     1385.000000\n",
       "mean       189.207619\n",
       "std        788.024766\n",
       "min          0.096786\n",
       "25%          4.113559\n",
       "50%         26.894869\n",
       "75%        121.795034\n",
       "max      18890.855341\n",
       "Name: mtna, dtype: float64"
      ]
     },
     "execution_count": 16,
     "metadata": {},
     "output_type": "execute_result"
    }
   ],
   "source": [
    "df2['mtna'].describe()"
   ]
  }
 ],
 "metadata": {
  "kernelspec": {
   "display_name": "Python 3",
   "language": "python",
   "name": "python3"
  },
  "language_info": {
   "codemirror_mode": {
    "name": "ipython",
    "version": 3
   },
   "file_extension": ".py",
   "mimetype": "text/x-python",
   "name": "python",
   "nbconvert_exporter": "python",
   "pygments_lexer": "ipython3",
   "version": "3.8.5"
  }
 },
 "nbformat": 4,
 "nbformat_minor": 4
}
